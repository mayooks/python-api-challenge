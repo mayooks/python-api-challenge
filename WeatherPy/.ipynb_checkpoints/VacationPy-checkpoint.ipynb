{
 "cells": [
  {
   "cell_type": "markdown",
   "metadata": {},
   "source": [
    "# VacationPy\n",
    "----\n",
    "\n",
    "#### Note\n",
    "* Keep an eye on your API usage. Use https://developers.google.com/maps/reporting/gmp-reporting as reference for how to monitor your usage and billing.\n",
    "\n",
    "* Instructions have been included for each segment. You do not have to follow them exactly, but they are included to help you think through the steps."
   ]
  },
  {
   "cell_type": "code",
   "execution_count": 1,
   "metadata": {},
   "outputs": [],
   "source": [
    "# Dependencies and Setup\n",
    "import matplotlib.pyplot as plt\n",
    "import pandas as pd\n",
    "import numpy as np\n",
    "import requests\n",
    "import gmaps\n",
    "import gmaps.datasets\n",
    "import os\n",
    "\n",
    "# Import API key\n",
    "from api_keys import g_key"
   ]
  },
  {
   "cell_type": "code",
   "execution_count": 7,
   "metadata": {},
   "outputs": [],
   "source": [
    "gmaps.configure(api_key=g_key)"
   ]
  },
  {
   "cell_type": "code",
   "execution_count": 18,
   "metadata": {},
   "outputs": [
    {
     "name": "stdout",
     "output_type": "stream",
     "text": [
      "\u001b[31mERROR: Could not find a version that satisfies the requirement jupyterlab-manager (from versions: none)\u001b[0m\n",
      "\u001b[31mERROR: No matching distribution found for jupyterlab-manager\u001b[0m\n",
      "Note: you may need to restart the kernel to use updated packages.\n"
     ]
    }
   ],
   "source": [
    "pip install jupyterlab-manager"
   ]
  },
  {
   "cell_type": "code",
   "execution_count": 35,
   "metadata": {},
   "outputs": [
    {
     "name": "stdout",
     "output_type": "stream",
     "text": [
      "Building jupyterlab assets (production, minimized)\n"
     ]
    }
   ],
   "source": [
    "!jupyter labextension install @jupyter-widgets/jupyterlab-manager"
   ]
  },
  {
   "cell_type": "code",
   "execution_count": 36,
   "metadata": {},
   "outputs": [
    {
     "name": "stdout",
     "output_type": "stream",
     "text": [
      "Requirement already satisfied: gmaps in /Users/user/opt/anaconda3/envs/PythonData/lib/python3.7/site-packages (0.9.0)\n",
      "Requirement already satisfied: ipython>=5.3.0 in /Users/user/opt/anaconda3/envs/PythonData/lib/python3.7/site-packages (from gmaps) (7.32.0)\n",
      "Requirement already satisfied: six in /Users/user/opt/anaconda3/envs/PythonData/lib/python3.7/site-packages (from gmaps) (1.16.0)\n",
      "Requirement already satisfied: traitlets>=4.3.0 in /Users/user/opt/anaconda3/envs/PythonData/lib/python3.7/site-packages (from gmaps) (5.1.1)\n",
      "Requirement already satisfied: geojson>=2.0.0 in /Users/user/opt/anaconda3/envs/PythonData/lib/python3.7/site-packages (from gmaps) (2.5.0)\n",
      "Requirement already satisfied: ipywidgets>=7.0.0 in /Users/user/opt/anaconda3/envs/PythonData/lib/python3.7/site-packages (from gmaps) (7.7.1)\n",
      "Requirement already satisfied: backcall in /Users/user/opt/anaconda3/envs/PythonData/lib/python3.7/site-packages (from ipython>=5.3.0->gmaps) (0.2.0)\n",
      "Requirement already satisfied: pexpect>4.3 in /Users/user/opt/anaconda3/envs/PythonData/lib/python3.7/site-packages (from ipython>=5.3.0->gmaps) (4.8.0)\n",
      "Requirement already satisfied: jedi>=0.16 in /Users/user/opt/anaconda3/envs/PythonData/lib/python3.7/site-packages (from ipython>=5.3.0->gmaps) (0.18.1)\n",
      "Requirement already satisfied: matplotlib-inline in /Users/user/opt/anaconda3/envs/PythonData/lib/python3.7/site-packages (from ipython>=5.3.0->gmaps) (0.1.3)\n",
      "Requirement already satisfied: setuptools>=18.5 in /Users/user/opt/anaconda3/envs/PythonData/lib/python3.7/site-packages (from ipython>=5.3.0->gmaps) (58.0.4)\n",
      "Requirement already satisfied: pickleshare in /Users/user/opt/anaconda3/envs/PythonData/lib/python3.7/site-packages (from ipython>=5.3.0->gmaps) (0.7.5)\n",
      "Requirement already satisfied: appnope in /Users/user/opt/anaconda3/envs/PythonData/lib/python3.7/site-packages (from ipython>=5.3.0->gmaps) (0.1.2)\n",
      "Requirement already satisfied: pygments in /Users/user/opt/anaconda3/envs/PythonData/lib/python3.7/site-packages (from ipython>=5.3.0->gmaps) (2.11.2)\n",
      "Requirement already satisfied: decorator in /Users/user/opt/anaconda3/envs/PythonData/lib/python3.7/site-packages (from ipython>=5.3.0->gmaps) (5.1.1)\n",
      "Requirement already satisfied: prompt-toolkit!=3.0.0,!=3.0.1,<3.1.0,>=2.0.0 in /Users/user/opt/anaconda3/envs/PythonData/lib/python3.7/site-packages (from ipython>=5.3.0->gmaps) (3.0.28)\n",
      "Requirement already satisfied: jupyterlab-widgets>=1.0.0 in /Users/user/opt/anaconda3/envs/PythonData/lib/python3.7/site-packages (from ipywidgets>=7.0.0->gmaps) (1.1.1)\n",
      "Requirement already satisfied: widgetsnbextension~=3.6.0 in /Users/user/opt/anaconda3/envs/PythonData/lib/python3.7/site-packages (from ipywidgets>=7.0.0->gmaps) (3.6.1)\n",
      "Requirement already satisfied: ipython-genutils~=0.2.0 in /Users/user/opt/anaconda3/envs/PythonData/lib/python3.7/site-packages (from ipywidgets>=7.0.0->gmaps) (0.2.0)\n",
      "Requirement already satisfied: ipykernel>=4.5.1 in /Users/user/opt/anaconda3/envs/PythonData/lib/python3.7/site-packages (from ipywidgets>=7.0.0->gmaps) (6.9.2)\n",
      "Requirement already satisfied: tornado<7.0,>=4.2 in /Users/user/opt/anaconda3/envs/PythonData/lib/python3.7/site-packages (from ipykernel>=4.5.1->ipywidgets>=7.0.0->gmaps) (6.1)\n",
      "Requirement already satisfied: jupyter-client<8.0 in /Users/user/opt/anaconda3/envs/PythonData/lib/python3.7/site-packages (from ipykernel>=4.5.1->ipywidgets>=7.0.0->gmaps) (7.1.2)\n",
      "Requirement already satisfied: psutil in /Users/user/opt/anaconda3/envs/PythonData/lib/python3.7/site-packages (from ipykernel>=4.5.1->ipywidgets>=7.0.0->gmaps) (5.9.0)\n",
      "Requirement already satisfied: debugpy<2.0,>=1.0.0 in /Users/user/opt/anaconda3/envs/PythonData/lib/python3.7/site-packages (from ipykernel>=4.5.1->ipywidgets>=7.0.0->gmaps) (1.5.1)\n",
      "Requirement already satisfied: nest-asyncio in /Users/user/opt/anaconda3/envs/PythonData/lib/python3.7/site-packages (from ipykernel>=4.5.1->ipywidgets>=7.0.0->gmaps) (1.5.4)\n",
      "Requirement already satisfied: parso<0.9.0,>=0.8.0 in /Users/user/opt/anaconda3/envs/PythonData/lib/python3.7/site-packages (from jedi>=0.16->ipython>=5.3.0->gmaps) (0.8.3)\n",
      "Requirement already satisfied: python-dateutil>=2.1 in /Users/user/opt/anaconda3/envs/PythonData/lib/python3.7/site-packages (from jupyter-client<8.0->ipykernel>=4.5.1->ipywidgets>=7.0.0->gmaps) (2.8.2)\n",
      "Requirement already satisfied: jupyter-core>=4.6.0 in /Users/user/opt/anaconda3/envs/PythonData/lib/python3.7/site-packages (from jupyter-client<8.0->ipykernel>=4.5.1->ipywidgets>=7.0.0->gmaps) (4.9.2)\n",
      "Requirement already satisfied: entrypoints in /Users/user/opt/anaconda3/envs/PythonData/lib/python3.7/site-packages (from jupyter-client<8.0->ipykernel>=4.5.1->ipywidgets>=7.0.0->gmaps) (0.4)\n",
      "Requirement already satisfied: pyzmq>=13 in /Users/user/opt/anaconda3/envs/PythonData/lib/python3.7/site-packages (from jupyter-client<8.0->ipykernel>=4.5.1->ipywidgets>=7.0.0->gmaps) (22.3.0)\n",
      "Requirement already satisfied: ptyprocess>=0.5 in /Users/user/opt/anaconda3/envs/PythonData/lib/python3.7/site-packages (from pexpect>4.3->ipython>=5.3.0->gmaps) (0.7.0)\n",
      "Requirement already satisfied: wcwidth in /Users/user/opt/anaconda3/envs/PythonData/lib/python3.7/site-packages (from prompt-toolkit!=3.0.0,!=3.0.1,<3.1.0,>=2.0.0->ipython>=5.3.0->gmaps) (0.2.5)\n",
      "Requirement already satisfied: notebook>=4.4.1 in /Users/user/opt/anaconda3/envs/PythonData/lib/python3.7/site-packages (from widgetsnbextension~=3.6.0->ipywidgets>=7.0.0->gmaps) (6.4.10)\n",
      "Requirement already satisfied: argon2-cffi in /Users/user/opt/anaconda3/envs/PythonData/lib/python3.7/site-packages (from notebook>=4.4.1->widgetsnbextension~=3.6.0->ipywidgets>=7.0.0->gmaps) (21.3.0)\n",
      "Requirement already satisfied: prometheus-client in /Users/user/opt/anaconda3/envs/PythonData/lib/python3.7/site-packages (from notebook>=4.4.1->widgetsnbextension~=3.6.0->ipywidgets>=7.0.0->gmaps) (0.13.1)\n",
      "Requirement already satisfied: nbconvert>=5 in /Users/user/opt/anaconda3/envs/PythonData/lib/python3.7/site-packages (from notebook>=4.4.1->widgetsnbextension~=3.6.0->ipywidgets>=7.0.0->gmaps) (6.4.4)\n",
      "Requirement already satisfied: nbformat in /Users/user/opt/anaconda3/envs/PythonData/lib/python3.7/site-packages (from notebook>=4.4.1->widgetsnbextension~=3.6.0->ipywidgets>=7.0.0->gmaps) (5.2.0)\n",
      "Requirement already satisfied: Send2Trash>=1.8.0 in /Users/user/opt/anaconda3/envs/PythonData/lib/python3.7/site-packages (from notebook>=4.4.1->widgetsnbextension~=3.6.0->ipywidgets>=7.0.0->gmaps) (1.8.0)\n",
      "Requirement already satisfied: jinja2 in /Users/user/opt/anaconda3/envs/PythonData/lib/python3.7/site-packages (from notebook>=4.4.1->widgetsnbextension~=3.6.0->ipywidgets>=7.0.0->gmaps) (3.0.3)\n",
      "Requirement already satisfied: terminado>=0.8.3 in /Users/user/opt/anaconda3/envs/PythonData/lib/python3.7/site-packages (from notebook>=4.4.1->widgetsnbextension~=3.6.0->ipywidgets>=7.0.0->gmaps) (0.13.3)\n",
      "Requirement already satisfied: pandocfilters>=1.4.1 in /Users/user/opt/anaconda3/envs/PythonData/lib/python3.7/site-packages (from nbconvert>=5->notebook>=4.4.1->widgetsnbextension~=3.6.0->ipywidgets>=7.0.0->gmaps) (1.5.0)\n",
      "Requirement already satisfied: beautifulsoup4 in /Users/user/opt/anaconda3/envs/PythonData/lib/python3.7/site-packages (from nbconvert>=5->notebook>=4.4.1->widgetsnbextension~=3.6.0->ipywidgets>=7.0.0->gmaps) (4.10.0)\n",
      "Requirement already satisfied: defusedxml in /Users/user/opt/anaconda3/envs/PythonData/lib/python3.7/site-packages (from nbconvert>=5->notebook>=4.4.1->widgetsnbextension~=3.6.0->ipywidgets>=7.0.0->gmaps) (0.7.1)\n",
      "Requirement already satisfied: bleach in /Users/user/opt/anaconda3/envs/PythonData/lib/python3.7/site-packages (from nbconvert>=5->notebook>=4.4.1->widgetsnbextension~=3.6.0->ipywidgets>=7.0.0->gmaps) (4.1.0)\n",
      "Requirement already satisfied: nbclient<0.6.0,>=0.5.0 in /Users/user/opt/anaconda3/envs/PythonData/lib/python3.7/site-packages (from nbconvert>=5->notebook>=4.4.1->widgetsnbextension~=3.6.0->ipywidgets>=7.0.0->gmaps) (0.5.13)\n",
      "Requirement already satisfied: testpath in /Users/user/opt/anaconda3/envs/PythonData/lib/python3.7/site-packages (from nbconvert>=5->notebook>=4.4.1->widgetsnbextension~=3.6.0->ipywidgets>=7.0.0->gmaps) (0.6.0)\n",
      "Requirement already satisfied: jupyterlab-pygments in /Users/user/opt/anaconda3/envs/PythonData/lib/python3.7/site-packages (from nbconvert>=5->notebook>=4.4.1->widgetsnbextension~=3.6.0->ipywidgets>=7.0.0->gmaps) (0.1.2)\n",
      "Requirement already satisfied: mistune<2,>=0.8.1 in /Users/user/opt/anaconda3/envs/PythonData/lib/python3.7/site-packages (from nbconvert>=5->notebook>=4.4.1->widgetsnbextension~=3.6.0->ipywidgets>=7.0.0->gmaps) (0.8.4)\n",
      "Requirement already satisfied: MarkupSafe>=2.0 in /Users/user/opt/anaconda3/envs/PythonData/lib/python3.7/site-packages (from jinja2->notebook>=4.4.1->widgetsnbextension~=3.6.0->ipywidgets>=7.0.0->gmaps) (2.1.1)\n"
     ]
    },
    {
     "name": "stdout",
     "output_type": "stream",
     "text": [
      "Requirement already satisfied: jsonschema!=2.5.0,>=2.4 in /Users/user/opt/anaconda3/envs/PythonData/lib/python3.7/site-packages (from nbformat->notebook>=4.4.1->widgetsnbextension~=3.6.0->ipywidgets>=7.0.0->gmaps) (4.4.0)\n",
      "Requirement already satisfied: typing-extensions in /Users/user/opt/anaconda3/envs/PythonData/lib/python3.7/site-packages (from jsonschema!=2.5.0,>=2.4->nbformat->notebook>=4.4.1->widgetsnbextension~=3.6.0->ipywidgets>=7.0.0->gmaps) (4.1.1)\n",
      "Requirement already satisfied: importlib-resources>=1.4.0 in /Users/user/opt/anaconda3/envs/PythonData/lib/python3.7/site-packages (from jsonschema!=2.5.0,>=2.4->nbformat->notebook>=4.4.1->widgetsnbextension~=3.6.0->ipywidgets>=7.0.0->gmaps) (5.4.0)\n",
      "Requirement already satisfied: importlib-metadata in /Users/user/opt/anaconda3/envs/PythonData/lib/python3.7/site-packages (from jsonschema!=2.5.0,>=2.4->nbformat->notebook>=4.4.1->widgetsnbextension~=3.6.0->ipywidgets>=7.0.0->gmaps) (4.11.3)\n",
      "Requirement already satisfied: pyrsistent!=0.17.0,!=0.17.1,!=0.17.2,>=0.14.0 in /Users/user/opt/anaconda3/envs/PythonData/lib/python3.7/site-packages (from jsonschema!=2.5.0,>=2.4->nbformat->notebook>=4.4.1->widgetsnbextension~=3.6.0->ipywidgets>=7.0.0->gmaps) (0.18.1)\n",
      "Requirement already satisfied: attrs>=17.4.0 in /Users/user/opt/anaconda3/envs/PythonData/lib/python3.7/site-packages (from jsonschema!=2.5.0,>=2.4->nbformat->notebook>=4.4.1->widgetsnbextension~=3.6.0->ipywidgets>=7.0.0->gmaps) (21.4.0)\n",
      "Requirement already satisfied: zipp>=3.1.0 in /Users/user/opt/anaconda3/envs/PythonData/lib/python3.7/site-packages (from importlib-resources>=1.4.0->jsonschema!=2.5.0,>=2.4->nbformat->notebook>=4.4.1->widgetsnbextension~=3.6.0->ipywidgets>=7.0.0->gmaps) (3.7.0)\n",
      "Requirement already satisfied: argon2-cffi-bindings in /Users/user/opt/anaconda3/envs/PythonData/lib/python3.7/site-packages (from argon2-cffi->notebook>=4.4.1->widgetsnbextension~=3.6.0->ipywidgets>=7.0.0->gmaps) (21.2.0)\n",
      "Requirement already satisfied: cffi>=1.0.1 in /Users/user/opt/anaconda3/envs/PythonData/lib/python3.7/site-packages (from argon2-cffi-bindings->argon2-cffi->notebook>=4.4.1->widgetsnbextension~=3.6.0->ipywidgets>=7.0.0->gmaps) (1.15.0)\n",
      "Requirement already satisfied: pycparser in /Users/user/opt/anaconda3/envs/PythonData/lib/python3.7/site-packages (from cffi>=1.0.1->argon2-cffi-bindings->argon2-cffi->notebook>=4.4.1->widgetsnbextension~=3.6.0->ipywidgets>=7.0.0->gmaps) (2.21)\n",
      "Requirement already satisfied: soupsieve>1.2 in /Users/user/opt/anaconda3/envs/PythonData/lib/python3.7/site-packages (from beautifulsoup4->nbconvert>=5->notebook>=4.4.1->widgetsnbextension~=3.6.0->ipywidgets>=7.0.0->gmaps) (2.3.1)\n",
      "Requirement already satisfied: webencodings in /Users/user/opt/anaconda3/envs/PythonData/lib/python3.7/site-packages (from bleach->nbconvert>=5->notebook>=4.4.1->widgetsnbextension~=3.6.0->ipywidgets>=7.0.0->gmaps) (0.5.1)\n",
      "Requirement already satisfied: packaging in /Users/user/opt/anaconda3/envs/PythonData/lib/python3.7/site-packages (from bleach->nbconvert>=5->notebook>=4.4.1->widgetsnbextension~=3.6.0->ipywidgets>=7.0.0->gmaps) (21.3)\n",
      "Requirement already satisfied: pyparsing!=3.0.5,>=2.0.2 in /Users/user/opt/anaconda3/envs/PythonData/lib/python3.7/site-packages (from packaging->bleach->nbconvert>=5->notebook>=4.4.1->widgetsnbextension~=3.6.0->ipywidgets>=7.0.0->gmaps) (3.0.7)\n"
     ]
    }
   ],
   "source": [
    "!pip install gmaps"
   ]
  },
  {
   "cell_type": "code",
   "execution_count": 37,
   "metadata": {},
   "outputs": [
    {
     "name": "stdout",
     "output_type": "stream",
     "text": [
      "[LabBuildApp] JupyterLab 3.3.2\n",
      "[LabBuildApp] Building in /Users/user/opt/anaconda3/envs/PythonData/share/jupyter/lab\n",
      "[LabBuildApp] Building jupyterlab assets (production, minimized)\n"
     ]
    }
   ],
   "source": [
    "!jupyter lab build"
   ]
  },
  {
   "cell_type": "code",
   "execution_count": 21,
   "metadata": {},
   "outputs": [
    {
     "data": {
      "application/vnd.jupyter.widget-view+json": {
       "model_id": "d7c5117ba9374913801c90177951f1a5",
       "version_major": 2,
       "version_minor": 0
      },
      "text/plain": [
       "Figure(layout=FigureLayout(height='420px'))"
      ]
     },
     "metadata": {},
     "output_type": "display_data"
    }
   ],
   "source": [
    "gmaps.configure(api_key =g_key)\n",
    "fig = gmaps.figure()\n",
    "heat_layer =. gmaps.heatmap_layer()\n",
    "fig.add_layer(heat_layer)\n",
    "fig"
   ]
  },
  {
   "cell_type": "code",
   "execution_count": 8,
   "metadata": {},
   "outputs": [
    {
     "name": "stdout",
     "output_type": "stream",
     "text": [
      "Enabling notebook extension jupyter-gmaps/extension...\r\n",
      "      - Validating: \u001b[32mOK\u001b[0m\r\n"
     ]
    }
   ],
   "source": [
    "!jupyter nbextension enable --py --sys-prefix gmaps"
   ]
  },
  {
   "cell_type": "code",
   "execution_count": 3,
   "metadata": {},
   "outputs": [
    {
     "name": "stdout",
     "output_type": "stream",
     "text": [
      "Enabling notebook extension jupyter-js-widgets/extension...\r\n",
      "      - Validating: \u001b[32mOK\u001b[0m\r\n"
     ]
    }
   ],
   "source": [
    "!jupyter nbextension enable --py --sys-prefix widgetsnbextension"
   ]
  },
  {
   "cell_type": "code",
   "execution_count": 12,
   "metadata": {},
   "outputs": [
    {
     "name": "stdout",
     "output_type": "stream",
     "text": [
      "Enabling notebook extension jupyter-gmaps/extension...\n",
      "      - Validating: \u001b[32mOK\u001b[0m\n",
      "Enabling notebook extension jupyter-js-widgets/extension...\n",
      "      - Validating: \u001b[32mOK\u001b[0m\n"
     ]
    }
   ],
   "source": [
    "!jupyter nbextension enable --py gmaps\n",
    "!jupyter nbextension enable --py widgetsnbextension"
   ]
  },
  {
   "cell_type": "markdown",
   "metadata": {},
   "source": [
    "### Store Part I results into DataFrame\n",
    "* Load the csv exported in Part I to a DataFrame"
   ]
  },
  {
   "cell_type": "code",
   "execution_count": 4,
   "metadata": {},
   "outputs": [],
   "source": [
    "cities = pd.read_csv('weatherdata.csv')\n"
   ]
  },
  {
   "cell_type": "code",
   "execution_count": 5,
   "metadata": {},
   "outputs": [
    {
     "data": {
      "text/html": [
       "<div>\n",
       "<style scoped>\n",
       "    .dataframe tbody tr th:only-of-type {\n",
       "        vertical-align: middle;\n",
       "    }\n",
       "\n",
       "    .dataframe tbody tr th {\n",
       "        vertical-align: top;\n",
       "    }\n",
       "\n",
       "    .dataframe thead th {\n",
       "        text-align: right;\n",
       "    }\n",
       "</style>\n",
       "<table border=\"1\" class=\"dataframe\">\n",
       "  <thead>\n",
       "    <tr style=\"text-align: right;\">\n",
       "      <th></th>\n",
       "      <th>city</th>\n",
       "      <th>temp</th>\n",
       "      <th>lat</th>\n",
       "      <th>lng</th>\n",
       "      <th>humidity</th>\n",
       "      <th>cloudiness</th>\n",
       "      <th>wind_speed</th>\n",
       "      <th>country</th>\n",
       "      <th>date</th>\n",
       "    </tr>\n",
       "  </thead>\n",
       "  <tbody>\n",
       "    <tr>\n",
       "      <th>0</th>\n",
       "      <td>George Town</td>\n",
       "      <td>31.81</td>\n",
       "      <td>5.4112</td>\n",
       "      <td>100.3354</td>\n",
       "      <td>70</td>\n",
       "      <td>20</td>\n",
       "      <td>3.60</td>\n",
       "      <td>MY</td>\n",
       "      <td>1657878205</td>\n",
       "    </tr>\n",
       "    <tr>\n",
       "      <th>1</th>\n",
       "      <td>Saint Paul Harbor</td>\n",
       "      <td>13.73</td>\n",
       "      <td>57.7900</td>\n",
       "      <td>-152.4072</td>\n",
       "      <td>82</td>\n",
       "      <td>0</td>\n",
       "      <td>2.57</td>\n",
       "      <td>US</td>\n",
       "      <td>1657878207</td>\n",
       "    </tr>\n",
       "    <tr>\n",
       "      <th>2</th>\n",
       "      <td>Aasiaat</td>\n",
       "      <td>3.51</td>\n",
       "      <td>68.7098</td>\n",
       "      <td>-52.8699</td>\n",
       "      <td>79</td>\n",
       "      <td>89</td>\n",
       "      <td>4.15</td>\n",
       "      <td>GL</td>\n",
       "      <td>1657878209</td>\n",
       "    </tr>\n",
       "    <tr>\n",
       "      <th>3</th>\n",
       "      <td>São João da Barra</td>\n",
       "      <td>21.05</td>\n",
       "      <td>-21.6403</td>\n",
       "      <td>-41.0511</td>\n",
       "      <td>89</td>\n",
       "      <td>42</td>\n",
       "      <td>4.90</td>\n",
       "      <td>BR</td>\n",
       "      <td>1657878211</td>\n",
       "    </tr>\n",
       "    <tr>\n",
       "      <th>4</th>\n",
       "      <td>Hilo</td>\n",
       "      <td>22.82</td>\n",
       "      <td>19.7297</td>\n",
       "      <td>-155.0900</td>\n",
       "      <td>95</td>\n",
       "      <td>100</td>\n",
       "      <td>2.57</td>\n",
       "      <td>US</td>\n",
       "      <td>1657878214</td>\n",
       "    </tr>\n",
       "  </tbody>\n",
       "</table>\n",
       "</div>"
      ],
      "text/plain": [
       "                city   temp      lat       lng  humidity  cloudiness  \\\n",
       "0        George Town  31.81   5.4112  100.3354        70          20   \n",
       "1  Saint Paul Harbor  13.73  57.7900 -152.4072        82           0   \n",
       "2            Aasiaat   3.51  68.7098  -52.8699        79          89   \n",
       "3  São João da Barra  21.05 -21.6403  -41.0511        89          42   \n",
       "4               Hilo  22.82  19.7297 -155.0900        95         100   \n",
       "\n",
       "   wind_speed country        date  \n",
       "0        3.60      MY  1657878205  \n",
       "1        2.57      US  1657878207  \n",
       "2        4.15      GL  1657878209  \n",
       "3        4.90      BR  1657878211  \n",
       "4        2.57      US  1657878214  "
      ]
     },
     "execution_count": 5,
     "metadata": {},
     "output_type": "execute_result"
    }
   ],
   "source": [
    "cities.head()"
   ]
  },
  {
   "cell_type": "markdown",
   "metadata": {},
   "source": [
    "### Humidity Heatmap\n",
    "* Configure gmaps.\n",
    "* Use the Lat and Lng as locations and Humidity as the weight.\n",
    "* Add Heatmap layer to map."
   ]
  },
  {
   "cell_type": "code",
   "execution_count": 10,
   "metadata": {},
   "outputs": [
    {
     "data": {
      "application/vnd.jupyter.widget-view+json": {
       "model_id": "64fa18d72f74420a821ec13c7bde3c1a",
       "version_major": 2,
       "version_minor": 0
      },
      "text/plain": [
       "Figure(layout=FigureLayout(height='420px'))"
      ]
     },
     "metadata": {},
     "output_type": "display_data"
    }
   ],
   "source": [
    "#creating a humidity map\n",
    "locations = cities[[\"lat\",'lng']]\n",
    "humidities = cities[\"humidity\"]\n",
    "\n",
    "# heatmap\n",
    "fig = gmaps.figure()\n",
    "\n",
    "#create humidity layer ()\n",
    "heat_layer = gmaps.heatmap_layer(locations,\n",
    "    weights=humidities,\n",
    "    max_intensity=100,\n",
    "    dissipating=False,\n",
    "    point_radius=3,\n",
    ")\n",
    "\n",
    "#add humidity layer\n",
    "fig.add_layer(heat_layer) \n",
    "\n",
    "#show map with layer\n",
    "fig"
   ]
  },
  {
   "cell_type": "markdown",
   "metadata": {},
   "source": [
    "### Create new DataFrame fitting weather criteria\n",
    "* Narrow down the cities to fit weather conditions.\n",
    "* Drop any rows will null values."
   ]
  },
  {
   "cell_type": "code",
   "execution_count": null,
   "metadata": {},
   "outputs": [],
   "source": []
  },
  {
   "cell_type": "markdown",
   "metadata": {},
   "source": [
    "### Hotel Map\n",
    "* Store into variable named `hotel_df`.\n",
    "* Add a \"Hotel Name\" column to the DataFrame.\n",
    "* Set parameters to search for hotels with 5000 meters.\n",
    "* Hit the Google Places API for each city's coordinates.\n",
    "* Store the first Hotel result into the DataFrame.\n",
    "* Plot markers on top of the heatmap."
   ]
  },
  {
   "cell_type": "code",
   "execution_count": null,
   "metadata": {},
   "outputs": [],
   "source": []
  },
  {
   "cell_type": "code",
   "execution_count": null,
   "metadata": {},
   "outputs": [],
   "source": []
  },
  {
   "cell_type": "code",
   "execution_count": null,
   "metadata": {},
   "outputs": [],
   "source": [
    "# NOTE: Do not change any of the code in this cell\n",
    "\n",
    "# Using the template add the hotel marks to the heatmap\n",
    "info_box_template = \"\"\"\n",
    "<dl>\n",
    "<dt>Name</dt><dd>{Hotel Name}</dd>\n",
    "<dt>City</dt><dd>{City}</dd>\n",
    "<dt>Country</dt><dd>{Country}</dd>\n",
    "</dl>\n",
    "\"\"\"\n",
    "# Store the DataFrame Row\n",
    "# NOTE: be sure to update with your DataFrame name\n",
    "hotel_info = [info_box_template.format(**row) for index, row in hotel_df.iterrows()]\n",
    "locations = hotel_df[[\"Lat\", \"Lng\"]]"
   ]
  },
  {
   "cell_type": "code",
   "execution_count": null,
   "metadata": {},
   "outputs": [],
   "source": [
    "# Add marker layer ontop of heat map\n",
    "\n",
    "\n",
    "# Display figure\n"
   ]
  },
  {
   "cell_type": "code",
   "execution_count": null,
   "metadata": {},
   "outputs": [],
   "source": []
  }
 ],
 "metadata": {
  "kernelspec": {
   "display_name": "Python [conda env:PythonData]",
   "language": "python",
   "name": "conda-env-PythonData-py"
  },
  "language_info": {
   "codemirror_mode": {
    "name": "ipython",
    "version": 3
   },
   "file_extension": ".py",
   "mimetype": "text/x-python",
   "name": "python",
   "nbconvert_exporter": "python",
   "pygments_lexer": "ipython3",
   "version": "3.7.11"
  },
  "latex_envs": {
   "LaTeX_envs_menu_present": true,
   "autoclose": false,
   "autocomplete": true,
   "bibliofile": "biblio.bib",
   "cite_by": "apalike",
   "current_citInitial": 1,
   "eqLabelWithNumbers": true,
   "eqNumInitial": 1,
   "hotkeys": {
    "equation": "Ctrl-E",
    "itemize": "Ctrl-I"
   },
   "labels_anchors": false,
   "latex_user_defs": false,
   "report_style_numbering": false,
   "user_envs_cfg": false
  }
 },
 "nbformat": 4,
 "nbformat_minor": 4
}
